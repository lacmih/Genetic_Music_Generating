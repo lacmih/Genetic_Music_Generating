{
 "cells": [
  {
   "cell_type": "code",
   "execution_count": 2,
   "metadata": {},
   "outputs": [],
   "source": [
    "import pandas as pd\n",
    "import numpy as np\n",
    "\n",
    "import seaborn as sns\n",
    "import matplotlib.pyplot as plt\n",
    "%matplotlib inline\n",
    "\n",
    "import sklearn\n",
    "from sklearn.naive_bayes import GaussianNB\n",
    "from sklearn.linear_model import SGDClassifier, LogisticRegression\n",
    "from sklearn.neighbors import KNeighborsClassifier\n",
    "from sklearn.tree import DecisionTreeClassifier\n",
    "from sklearn.ensemble import RandomForestClassifier, AdaBoostClassifier\n",
    "from sklearn.svm import SVC\n",
    "from sklearn.neural_network import MLPClassifier\n",
    "from xgboost import XGBClassifier, XGBRFClassifier\n",
    "from xgboost import plot_tree, plot_importance\n",
    "from sklearn.metrics import confusion_matrix, accuracy_score, roc_auc_score, roc_curve\n",
    "from sklearn.decomposition import PCA\n",
    "from sklearn import preprocessing\n",
    "from sklearn.model_selection import train_test_split\n",
    "from sklearn.feature_selection import RFE\n",
    "from sklearn.metrics.pairwise import cosine_similarity\n",
    "\n",
    "import keras\n",
    "from tensorflow import keras\n",
    "from keras import Sequential\n",
    "from keras import layers\n",
    "import tensorflow as tf\n",
    "import tensorflow_addons as tfa\n",
    "from tensorflow.keras.preprocessing import image_dataset_from_directory\n",
    "from keras.utils.vis_utils import plot_model\n",
    "from tensorflow.keras import Sequential, Input\n",
    "#from keras.utils import to_categorical\n",
    "from tensorflow.keras.utils import to_categorical\n",
    "from tensorflow.keras.layers import Dense, Dropout,SeparableConv2D, Activation, BatchNormalization, Flatten, GlobalAveragePooling2D, Conv2D, MaxPooling2D\n",
    "from tensorflow.keras.layers import Conv2D, Flatten\n",
    "from tensorflow.keras.callbacks import ReduceLROnPlateau,EarlyStopping, ModelCheckpoint\n",
    "from tensorflow.keras.applications.inception_v3 import InceptionV3\n",
    "from tensorflow.keras.preprocessing.image import ImageDataGenerator as IDG\n",
    "\n",
    "import librosa\n",
    "import librosa.display\n",
    "import IPython.display as ipd\n",
    "\n",
    "import eli5\n",
    "from eli5.sklearn import PermutationImportance\n",
    "\n",
    "import os\n",
    "import warnings\n",
    "warnings.filterwarnings('ignore')"
   ]
  },
  {
   "cell_type": "code",
   "execution_count": 3,
   "metadata": {},
   "outputs": [
    {
     "name": "stdout",
     "output_type": "stream",
     "text": [
      "['pop', 'metal', 'disco', 'blues', 'reggae', 'classical', 'rock', 'hiphop', 'country', 'jazz']\n"
     ]
    }
   ],
   "source": [
    "dir_ = './data'\n",
    "print(list(os.listdir(f'{dir_}/genres_original/')))\n"
   ]
  },
  {
   "cell_type": "code",
   "execution_count": 4,
   "metadata": {},
   "outputs": [
    {
     "name": "stdout",
     "output_type": "stream",
     "text": [
      "y: [ 0.17184448  0.20730591  0.08227539 ...  0.00271606 -0.02062988\n",
      " -0.01370239] \n",
      "\n",
      "y shape: (661794,) \n",
      "\n",
      "Sample Rate (KHz): 22050 \n",
      "\n",
      "Check Len of Audio: 30.013333333333332\n"
     ]
    }
   ],
   "source": [
    "y, s = librosa.load(f'{dir_}/genres_original/blues/blues.00023.wav')\n",
    "\n",
    "print('y:', y, '\\n')\n",
    "print('y shape:', np.shape(y), '\\n')\n",
    "print('Sample Rate (KHz):', s, '\\n')\n",
    "\n",
    "print('Check Len of Audio:', 661794/22050)"
   ]
  },
  {
   "cell_type": "code",
   "execution_count": 5,
   "metadata": {},
   "outputs": [
    {
     "name": "stdout",
     "output_type": "stream",
     "text": [
      "Audio File: [ 0.17184448  0.20730591  0.08227539 ...  0.00271606 -0.02062988\n",
      " -0.01370239] \n",
      "\n",
      "Audio File shape: (661794,)\n"
     ]
    }
   ],
   "source": [
    "audio, _ = librosa.effects.trim(y)\n",
    "\n",
    "print('Audio File:', audio, '\\n')\n",
    "print('Audio File shape:', np.shape(audio))"
   ]
  },
  {
   "cell_type": "markdown",
   "metadata": {},
   "source": [
    "# Modeling   "
   ]
  },
  {
   "cell_type": "code",
   "execution_count": 6,
   "metadata": {},
   "outputs": [
    {
     "data": {
      "text/html": [
       "<div>\n",
       "<style scoped>\n",
       "    .dataframe tbody tr th:only-of-type {\n",
       "        vertical-align: middle;\n",
       "    }\n",
       "\n",
       "    .dataframe tbody tr th {\n",
       "        vertical-align: top;\n",
       "    }\n",
       "\n",
       "    .dataframe thead th {\n",
       "        text-align: right;\n",
       "    }\n",
       "</style>\n",
       "<table border=\"1\" class=\"dataframe\">\n",
       "  <thead>\n",
       "    <tr style=\"text-align: right;\">\n",
       "      <th></th>\n",
       "      <th>length</th>\n",
       "      <th>chroma_stft_mean</th>\n",
       "      <th>chroma_stft_var</th>\n",
       "      <th>rms_mean</th>\n",
       "      <th>rms_var</th>\n",
       "      <th>spectral_centroid_mean</th>\n",
       "      <th>spectral_centroid_var</th>\n",
       "      <th>spectral_bandwidth_mean</th>\n",
       "      <th>spectral_bandwidth_var</th>\n",
       "      <th>rolloff_mean</th>\n",
       "      <th>...</th>\n",
       "      <th>mfcc16_var</th>\n",
       "      <th>mfcc17_mean</th>\n",
       "      <th>mfcc17_var</th>\n",
       "      <th>mfcc18_mean</th>\n",
       "      <th>mfcc18_var</th>\n",
       "      <th>mfcc19_mean</th>\n",
       "      <th>mfcc19_var</th>\n",
       "      <th>mfcc20_mean</th>\n",
       "      <th>mfcc20_var</th>\n",
       "      <th>label</th>\n",
       "    </tr>\n",
       "  </thead>\n",
       "  <tbody>\n",
       "    <tr>\n",
       "      <th>0</th>\n",
       "      <td>66149</td>\n",
       "      <td>0.335406</td>\n",
       "      <td>0.091048</td>\n",
       "      <td>0.130405</td>\n",
       "      <td>0.003521</td>\n",
       "      <td>1773.065032</td>\n",
       "      <td>167541.630869</td>\n",
       "      <td>1972.744388</td>\n",
       "      <td>117335.771563</td>\n",
       "      <td>3714.560359</td>\n",
       "      <td>...</td>\n",
       "      <td>39.687145</td>\n",
       "      <td>-3.241280</td>\n",
       "      <td>36.488243</td>\n",
       "      <td>0.722209</td>\n",
       "      <td>38.099152</td>\n",
       "      <td>-5.050335</td>\n",
       "      <td>33.618073</td>\n",
       "      <td>-0.243027</td>\n",
       "      <td>43.771767</td>\n",
       "      <td>blues</td>\n",
       "    </tr>\n",
       "    <tr>\n",
       "      <th>1</th>\n",
       "      <td>66149</td>\n",
       "      <td>0.343065</td>\n",
       "      <td>0.086147</td>\n",
       "      <td>0.112699</td>\n",
       "      <td>0.001450</td>\n",
       "      <td>1816.693777</td>\n",
       "      <td>90525.690866</td>\n",
       "      <td>2010.051501</td>\n",
       "      <td>65671.875673</td>\n",
       "      <td>3869.682242</td>\n",
       "      <td>...</td>\n",
       "      <td>64.748276</td>\n",
       "      <td>-6.055294</td>\n",
       "      <td>40.677654</td>\n",
       "      <td>0.159015</td>\n",
       "      <td>51.264091</td>\n",
       "      <td>-2.837699</td>\n",
       "      <td>97.030830</td>\n",
       "      <td>5.784063</td>\n",
       "      <td>59.943081</td>\n",
       "      <td>blues</td>\n",
       "    </tr>\n",
       "    <tr>\n",
       "      <th>2</th>\n",
       "      <td>66149</td>\n",
       "      <td>0.346815</td>\n",
       "      <td>0.092243</td>\n",
       "      <td>0.132003</td>\n",
       "      <td>0.004620</td>\n",
       "      <td>1788.539719</td>\n",
       "      <td>111407.437613</td>\n",
       "      <td>2084.565132</td>\n",
       "      <td>75124.921716</td>\n",
       "      <td>3997.639160</td>\n",
       "      <td>...</td>\n",
       "      <td>67.336563</td>\n",
       "      <td>-1.768610</td>\n",
       "      <td>28.348579</td>\n",
       "      <td>2.378768</td>\n",
       "      <td>45.717648</td>\n",
       "      <td>-1.938424</td>\n",
       "      <td>53.050835</td>\n",
       "      <td>2.517375</td>\n",
       "      <td>33.105122</td>\n",
       "      <td>blues</td>\n",
       "    </tr>\n",
       "    <tr>\n",
       "      <th>3</th>\n",
       "      <td>66149</td>\n",
       "      <td>0.363639</td>\n",
       "      <td>0.086856</td>\n",
       "      <td>0.132565</td>\n",
       "      <td>0.002448</td>\n",
       "      <td>1655.289045</td>\n",
       "      <td>111952.284517</td>\n",
       "      <td>1960.039988</td>\n",
       "      <td>82913.639269</td>\n",
       "      <td>3568.300218</td>\n",
       "      <td>...</td>\n",
       "      <td>47.739452</td>\n",
       "      <td>-3.841155</td>\n",
       "      <td>28.337118</td>\n",
       "      <td>1.218588</td>\n",
       "      <td>34.770935</td>\n",
       "      <td>-3.580352</td>\n",
       "      <td>50.836224</td>\n",
       "      <td>3.630866</td>\n",
       "      <td>32.023678</td>\n",
       "      <td>blues</td>\n",
       "    </tr>\n",
       "    <tr>\n",
       "      <th>4</th>\n",
       "      <td>66149</td>\n",
       "      <td>0.335579</td>\n",
       "      <td>0.088129</td>\n",
       "      <td>0.143289</td>\n",
       "      <td>0.001701</td>\n",
       "      <td>1630.656199</td>\n",
       "      <td>79667.267654</td>\n",
       "      <td>1948.503884</td>\n",
       "      <td>60204.020268</td>\n",
       "      <td>3469.992864</td>\n",
       "      <td>...</td>\n",
       "      <td>30.336359</td>\n",
       "      <td>0.664582</td>\n",
       "      <td>45.880913</td>\n",
       "      <td>1.689446</td>\n",
       "      <td>51.363583</td>\n",
       "      <td>-3.392489</td>\n",
       "      <td>26.738789</td>\n",
       "      <td>0.536961</td>\n",
       "      <td>29.146694</td>\n",
       "      <td>blues</td>\n",
       "    </tr>\n",
       "    <tr>\n",
       "      <th>...</th>\n",
       "      <td>...</td>\n",
       "      <td>...</td>\n",
       "      <td>...</td>\n",
       "      <td>...</td>\n",
       "      <td>...</td>\n",
       "      <td>...</td>\n",
       "      <td>...</td>\n",
       "      <td>...</td>\n",
       "      <td>...</td>\n",
       "      <td>...</td>\n",
       "      <td>...</td>\n",
       "      <td>...</td>\n",
       "      <td>...</td>\n",
       "      <td>...</td>\n",
       "      <td>...</td>\n",
       "      <td>...</td>\n",
       "      <td>...</td>\n",
       "      <td>...</td>\n",
       "      <td>...</td>\n",
       "      <td>...</td>\n",
       "      <td>...</td>\n",
       "    </tr>\n",
       "    <tr>\n",
       "      <th>9985</th>\n",
       "      <td>66149</td>\n",
       "      <td>0.349126</td>\n",
       "      <td>0.080515</td>\n",
       "      <td>0.050019</td>\n",
       "      <td>0.000097</td>\n",
       "      <td>1499.083005</td>\n",
       "      <td>164266.886443</td>\n",
       "      <td>1718.707215</td>\n",
       "      <td>85931.574523</td>\n",
       "      <td>3015.559458</td>\n",
       "      <td>...</td>\n",
       "      <td>42.485981</td>\n",
       "      <td>-9.094270</td>\n",
       "      <td>38.326839</td>\n",
       "      <td>-4.246976</td>\n",
       "      <td>31.049839</td>\n",
       "      <td>-5.625813</td>\n",
       "      <td>48.804092</td>\n",
       "      <td>1.818823</td>\n",
       "      <td>38.966969</td>\n",
       "      <td>rock</td>\n",
       "    </tr>\n",
       "    <tr>\n",
       "      <th>9986</th>\n",
       "      <td>66149</td>\n",
       "      <td>0.372564</td>\n",
       "      <td>0.082626</td>\n",
       "      <td>0.057897</td>\n",
       "      <td>0.000088</td>\n",
       "      <td>1847.965128</td>\n",
       "      <td>281054.935973</td>\n",
       "      <td>1906.468492</td>\n",
       "      <td>99727.037054</td>\n",
       "      <td>3746.694524</td>\n",
       "      <td>...</td>\n",
       "      <td>32.415203</td>\n",
       "      <td>-12.375726</td>\n",
       "      <td>66.418587</td>\n",
       "      <td>-3.081278</td>\n",
       "      <td>54.414265</td>\n",
       "      <td>-11.960546</td>\n",
       "      <td>63.452255</td>\n",
       "      <td>0.428857</td>\n",
       "      <td>18.697033</td>\n",
       "      <td>rock</td>\n",
       "    </tr>\n",
       "    <tr>\n",
       "      <th>9987</th>\n",
       "      <td>66149</td>\n",
       "      <td>0.347481</td>\n",
       "      <td>0.089019</td>\n",
       "      <td>0.052403</td>\n",
       "      <td>0.000701</td>\n",
       "      <td>1346.157659</td>\n",
       "      <td>662956.246325</td>\n",
       "      <td>1561.859087</td>\n",
       "      <td>138762.841945</td>\n",
       "      <td>2442.362154</td>\n",
       "      <td>...</td>\n",
       "      <td>78.228149</td>\n",
       "      <td>-2.524483</td>\n",
       "      <td>21.778994</td>\n",
       "      <td>4.809936</td>\n",
       "      <td>25.980829</td>\n",
       "      <td>1.775686</td>\n",
       "      <td>48.582378</td>\n",
       "      <td>-0.299545</td>\n",
       "      <td>41.586990</td>\n",
       "      <td>rock</td>\n",
       "    </tr>\n",
       "    <tr>\n",
       "      <th>9988</th>\n",
       "      <td>66149</td>\n",
       "      <td>0.387527</td>\n",
       "      <td>0.084815</td>\n",
       "      <td>0.066430</td>\n",
       "      <td>0.000320</td>\n",
       "      <td>2084.515327</td>\n",
       "      <td>203891.039161</td>\n",
       "      <td>2018.366254</td>\n",
       "      <td>22860.992562</td>\n",
       "      <td>4313.266226</td>\n",
       "      <td>...</td>\n",
       "      <td>28.323744</td>\n",
       "      <td>-5.363541</td>\n",
       "      <td>17.209942</td>\n",
       "      <td>6.462601</td>\n",
       "      <td>21.442928</td>\n",
       "      <td>2.354765</td>\n",
       "      <td>24.843613</td>\n",
       "      <td>0.675824</td>\n",
       "      <td>12.787750</td>\n",
       "      <td>rock</td>\n",
       "    </tr>\n",
       "    <tr>\n",
       "      <th>9989</th>\n",
       "      <td>66149</td>\n",
       "      <td>0.369293</td>\n",
       "      <td>0.086759</td>\n",
       "      <td>0.050524</td>\n",
       "      <td>0.000067</td>\n",
       "      <td>1634.330126</td>\n",
       "      <td>411429.169769</td>\n",
       "      <td>1867.422378</td>\n",
       "      <td>119722.211518</td>\n",
       "      <td>3462.042142</td>\n",
       "      <td>...</td>\n",
       "      <td>38.801735</td>\n",
       "      <td>-11.598399</td>\n",
       "      <td>58.983097</td>\n",
       "      <td>-0.178517</td>\n",
       "      <td>55.761299</td>\n",
       "      <td>-6.903252</td>\n",
       "      <td>39.485901</td>\n",
       "      <td>-3.412534</td>\n",
       "      <td>31.727489</td>\n",
       "      <td>rock</td>\n",
       "    </tr>\n",
       "  </tbody>\n",
       "</table>\n",
       "<p>9990 rows × 59 columns</p>\n",
       "</div>"
      ],
      "text/plain": [
       "      length  chroma_stft_mean  chroma_stft_var  rms_mean   rms_var  \\\n",
       "0      66149          0.335406         0.091048  0.130405  0.003521   \n",
       "1      66149          0.343065         0.086147  0.112699  0.001450   \n",
       "2      66149          0.346815         0.092243  0.132003  0.004620   \n",
       "3      66149          0.363639         0.086856  0.132565  0.002448   \n",
       "4      66149          0.335579         0.088129  0.143289  0.001701   \n",
       "...      ...               ...              ...       ...       ...   \n",
       "9985   66149          0.349126         0.080515  0.050019  0.000097   \n",
       "9986   66149          0.372564         0.082626  0.057897  0.000088   \n",
       "9987   66149          0.347481         0.089019  0.052403  0.000701   \n",
       "9988   66149          0.387527         0.084815  0.066430  0.000320   \n",
       "9989   66149          0.369293         0.086759  0.050524  0.000067   \n",
       "\n",
       "      spectral_centroid_mean  spectral_centroid_var  spectral_bandwidth_mean  \\\n",
       "0                1773.065032          167541.630869              1972.744388   \n",
       "1                1816.693777           90525.690866              2010.051501   \n",
       "2                1788.539719          111407.437613              2084.565132   \n",
       "3                1655.289045          111952.284517              1960.039988   \n",
       "4                1630.656199           79667.267654              1948.503884   \n",
       "...                      ...                    ...                      ...   \n",
       "9985             1499.083005          164266.886443              1718.707215   \n",
       "9986             1847.965128          281054.935973              1906.468492   \n",
       "9987             1346.157659          662956.246325              1561.859087   \n",
       "9988             2084.515327          203891.039161              2018.366254   \n",
       "9989             1634.330126          411429.169769              1867.422378   \n",
       "\n",
       "      spectral_bandwidth_var  rolloff_mean  ...  mfcc16_var  mfcc17_mean  \\\n",
       "0              117335.771563   3714.560359  ...   39.687145    -3.241280   \n",
       "1               65671.875673   3869.682242  ...   64.748276    -6.055294   \n",
       "2               75124.921716   3997.639160  ...   67.336563    -1.768610   \n",
       "3               82913.639269   3568.300218  ...   47.739452    -3.841155   \n",
       "4               60204.020268   3469.992864  ...   30.336359     0.664582   \n",
       "...                      ...           ...  ...         ...          ...   \n",
       "9985            85931.574523   3015.559458  ...   42.485981    -9.094270   \n",
       "9986            99727.037054   3746.694524  ...   32.415203   -12.375726   \n",
       "9987           138762.841945   2442.362154  ...   78.228149    -2.524483   \n",
       "9988            22860.992562   4313.266226  ...   28.323744    -5.363541   \n",
       "9989           119722.211518   3462.042142  ...   38.801735   -11.598399   \n",
       "\n",
       "      mfcc17_var  mfcc18_mean  mfcc18_var  mfcc19_mean  mfcc19_var  \\\n",
       "0      36.488243     0.722209   38.099152    -5.050335   33.618073   \n",
       "1      40.677654     0.159015   51.264091    -2.837699   97.030830   \n",
       "2      28.348579     2.378768   45.717648    -1.938424   53.050835   \n",
       "3      28.337118     1.218588   34.770935    -3.580352   50.836224   \n",
       "4      45.880913     1.689446   51.363583    -3.392489   26.738789   \n",
       "...          ...          ...         ...          ...         ...   \n",
       "9985   38.326839    -4.246976   31.049839    -5.625813   48.804092   \n",
       "9986   66.418587    -3.081278   54.414265   -11.960546   63.452255   \n",
       "9987   21.778994     4.809936   25.980829     1.775686   48.582378   \n",
       "9988   17.209942     6.462601   21.442928     2.354765   24.843613   \n",
       "9989   58.983097    -0.178517   55.761299    -6.903252   39.485901   \n",
       "\n",
       "      mfcc20_mean  mfcc20_var  label  \n",
       "0       -0.243027   43.771767  blues  \n",
       "1        5.784063   59.943081  blues  \n",
       "2        2.517375   33.105122  blues  \n",
       "3        3.630866   32.023678  blues  \n",
       "4        0.536961   29.146694  blues  \n",
       "...           ...         ...    ...  \n",
       "9985     1.818823   38.966969   rock  \n",
       "9986     0.428857   18.697033   rock  \n",
       "9987    -0.299545   41.586990   rock  \n",
       "9988     0.675824   12.787750   rock  \n",
       "9989    -3.412534   31.727489   rock  \n",
       "\n",
       "[9990 rows x 59 columns]"
      ]
     },
     "execution_count": 6,
     "metadata": {},
     "output_type": "execute_result"
    }
   ],
   "source": [
    "df = pd.read_csv(f'{dir_}/features_3_sec.csv')\n",
    "df = df.iloc[0:, 1:] \n",
    "df\n"
   ]
  },
  {
   "cell_type": "code",
   "execution_count": 7,
   "metadata": {},
   "outputs": [],
   "source": [
    "y = df['label']\n",
    "X = df.loc[:, df.columns != 'label']\n",
    "\n",
    "cols = X.columns\n",
    "scaler = preprocessing.MinMaxScaler()\n",
    "np_scaled = scaler.fit_transform(X)\n",
    "\n",
    "X = pd.DataFrame(np_scaled, columns = cols)"
   ]
  },
  {
   "cell_type": "code",
   "execution_count": 8,
   "metadata": {},
   "outputs": [],
   "source": [
    "X_train, X_test, y_train, y_test = train_test_split(X, y, test_size=0.3, random_state=42)\n"
   ]
  },
  {
   "cell_type": "code",
   "execution_count": 9,
   "metadata": {},
   "outputs": [],
   "source": [
    "def model_assess(model, title = \"Default\"):\n",
    "    model.fit(X_train, y_train)\n",
    "    preds = model.predict(X_test)\n",
    "    print(confusion_matrix(y_test, preds))\n",
    "    print('Accuracy', title, ':', round(accuracy_score(y_test, preds), 5), '\\n')"
   ]
  },
  {
   "cell_type": "code",
   "execution_count": 11,
   "metadata": {},
   "outputs": [],
   "source": [
    "from joblib import dump, load"
   ]
  },
  {
   "cell_type": "code",
   "execution_count": 12,
   "metadata": {},
   "outputs": [
    {
     "name": "stdout",
     "output_type": "stream",
     "text": [
      "[[256   5  22   4   2   8   6   0  10   6]\n",
      " [  0 297   1   0   0  10   0   0   0   0]\n",
      " [  9   2 230  11   1  13   0   1  12   7]\n",
      " [  7   6   8 246   8   0   2   4   6  14]\n",
      " [  7   1  15  24 217   0   9  21  14   3]\n",
      " [  2  30  16   2   0 233   0   2   1   0]\n",
      " [  6   0   2  15   5   0 252   0   4  19]\n",
      " [  0   0   6  17   2   2   0 229  10   1]\n",
      " [  3   1  16  20  13   0   2  11 248   2]\n",
      " [ 11   1  20  35   0   7   7   2  10 207]]\n",
      "Accuracy KNN : 0.80581 \n",
      "\n"
     ]
    },
    {
     "data": {
      "text/plain": [
       "['knn.joblib']"
      ]
     },
     "execution_count": 12,
     "metadata": {},
     "output_type": "execute_result"
    }
   ],
   "source": [
    "knn = KNeighborsClassifier(n_neighbors=19)\n",
    "model_assess(knn, \"KNN\")\n",
    "\n",
    "dump(knn, 'knn.joblib')"
   ]
  },
  {
   "cell_type": "code",
   "execution_count": 13,
   "metadata": {},
   "outputs": [
    {
     "name": "stdout",
     "output_type": "stream",
     "text": [
      "[[173   0  36  20   7  15  13   7  20  28]\n",
      " [  4 257  14   0   0  25   1   1   1   5]\n",
      " [ 29   3 142  12  11  28   9   6  18  28]\n",
      " [  9   3  11 176  25   6   7  18  16  30]\n",
      " [  6   1  15  28 204   3  15  18  20   1]\n",
      " [ 11  14  17   7   0 211   3   7   2  14]\n",
      " [  9   0   6  19   9   2 236   2   6  14]\n",
      " [  0   1  15  10  15   3   1 205   7  10]\n",
      " [ 12   3  23  20  29   5   5  12 186  21]\n",
      " [ 17   4  30  22  15  21  28   6  19 138]]\n",
      "Accuracy Decission trees : 0.64331 \n",
      "\n"
     ]
    },
    {
     "data": {
      "text/plain": [
       "['tree.joblib']"
      ]
     },
     "execution_count": 13,
     "metadata": {},
     "output_type": "execute_result"
    }
   ],
   "source": [
    "tree = DecisionTreeClassifier()\n",
    "model_assess(tree, \"Decission trees\")\n",
    "\n",
    "dump(tree, 'tree.joblib')"
   ]
  },
  {
   "cell_type": "code",
   "execution_count": 14,
   "metadata": {},
   "outputs": [
    {
     "name": "stdout",
     "output_type": "stream",
     "text": [
      "[[246   1  31   8   4   8  15   0   6   0]\n",
      " [  0 294   1   0   0  12   0   0   0   1]\n",
      " [ 13   1 212  12   0  23   3   3   9  10]\n",
      " [  1   4  11 235  14   1   5   8  10  12]\n",
      " [  4   0   7   8 250   2  13  15  10   2]\n",
      " [  7  21   5   1   0 251   0   0   1   0]\n",
      " [  1   0   1   2   3   1 281   0   6   8]\n",
      " [  0   0  12   4   2   1   0 238   5   5]\n",
      " [  5   2   9  11   7   4   4  17 254   3]\n",
      " [  7   2  29  34   1  12  19   4  13 179]]\n",
      "Accuracy Random Forest : 0.81415 \n",
      "\n"
     ]
    },
    {
     "data": {
      "text/plain": [
       "['rforest.joblib']"
      ]
     },
     "execution_count": 14,
     "metadata": {},
     "output_type": "execute_result"
    }
   ],
   "source": [
    "rforest = RandomForestClassifier(n_estimators=1000, max_depth=10, random_state=0)\n",
    "model_assess(rforest, \"Random Forest\")\n",
    "\n",
    "dump(rforest, 'rforest.joblib')"
   ]
  },
  {
   "cell_type": "code",
   "execution_count": 15,
   "metadata": {},
   "outputs": [
    {
     "name": "stdout",
     "output_type": "stream",
     "text": [
      "[[241   5  10   9   2  12  24   0   7   9]\n",
      " [  0 294   2   0   0  10   0   0   0   2]\n",
      " [ 19   0 192  18   0  23   1   5   5  23]\n",
      " [  2   6   7 199  18   7  10  12  14  26]\n",
      " [  7   2   7  18 220   0   8  16  28   5]\n",
      " [ 12  25   9   2   0 234   0   1   2   1]\n",
      " [ 10   0   0   7   4   0 270   0   2  10]\n",
      " [  0   1  10   8   4   1   0 233   4   6]\n",
      " [ 13   2  16  18  20   3   5  10 220   9]\n",
      " [ 19   2  24  45   7  11  16   9  10 157]]\n",
      "Accuracy Support Vector Machine : 0.75409 \n",
      "\n"
     ]
    },
    {
     "data": {
      "text/plain": [
       "['svm.joblib']"
      ]
     },
     "execution_count": 15,
     "metadata": {},
     "output_type": "execute_result"
    }
   ],
   "source": [
    "svm = SVC(decision_function_shape=\"ovo\")\n",
    "model_assess(svm, \"Support Vector Machine\")\n",
    "\n",
    "dump(svm, 'svm.joblib')"
   ]
  },
  {
   "cell_type": "code",
   "execution_count": 16,
   "metadata": {},
   "outputs": [
    {
     "name": "stdout",
     "output_type": "stream",
     "text": [
      "[[212   5  12   7   4  18  40   0  11  10]\n",
      " [  2 287   5   0   0  10   0   0   0   4]\n",
      " [ 23   1 166  18   2  21   1  19   9  26]\n",
      " [  3   5  15 182  23   3  16  21  15  18]\n",
      " [  8   2   8  17 201   0  15  24  31   5]\n",
      " [ 11  28  14   5   1 214   0   2   7   4]\n",
      " [ 10   0   0   7   4   0 266   0   3  13]\n",
      " [  0   0  14   8  11   0   0 226   3   5]\n",
      " [ 14   1  19  12  29   5   8  10 210   8]\n",
      " [ 35   3  25  32   5  14  22  18  19 127]]\n",
      "Accuracy Logistic Regression : 0.6977 \n",
      "\n"
     ]
    },
    {
     "data": {
      "text/plain": [
       "['lg.joblib']"
      ]
     },
     "execution_count": 16,
     "metadata": {},
     "output_type": "execute_result"
    }
   ],
   "source": [
    "lg = LogisticRegression(random_state=0, solver='lbfgs', multi_class='multinomial')\n",
    "model_assess(lg, \"Logistic Regression\")\n",
    "\n",
    "dump(lg, 'lg.joblib')"
   ]
  },
  {
   "cell_type": "code",
   "execution_count": 17,
   "metadata": {},
   "outputs": [
    {
     "name": "stdout",
     "output_type": "stream",
     "text": [
      "[[185   1  50   3   4  19  24   0  12  21]\n",
      " [  2 281   3   1   0  20   0   0   1   0]\n",
      " [ 21   0 164  11   1  28   0   6  12  43]\n",
      " [  3   4  10 171  27   4  10  14  19  39]\n",
      " [  6   1   4  21 203   3  12  17  38   6]\n",
      " [  8  22  21   0   0 217   1   2   1  14]\n",
      " [ 12   0   1   8   6   0 261   0   0  15]\n",
      " [  0   0   4  10   5   0   0 234  12   2]\n",
      " [  4   1  32  17  29   1   2   9 216   5]\n",
      " [ 20   2  54  48   2  18  18   9  11 118]]\n",
      "Accuracy Neural Nets : 0.68402 \n",
      "\n"
     ]
    }
   ],
   "source": [
    "nn = MLPClassifier(solver='lbfgs', alpha=1e-5, hidden_layer_sizes=(5000, 10), random_state=1)\n",
    "model_assess(nn, \"Neural Nets\")\n",
    "\n",
    "dump(nn, 'nn.joblib')"
   ]
  },
  {
   "cell_type": "code",
   "execution_count": 19,
   "metadata": {},
   "outputs": [
    {
     "name": "stdout",
     "output_type": "stream",
     "text": [
      "[[ 81   3  28  14  19  14 120   0  13  27]\n",
      " [  1 285   5   1   1   7   0   0   1   7]\n",
      " [ 45   7  93  15  38  11  15  31  18  13]\n",
      " [  7   6  16  56  41   3  65  75  12  20]\n",
      " [  3   3   7  20  88   2  97  75  11   5]\n",
      " [ 14  61  23  11  13  97  12  22  15  18]\n",
      " [  5   0   6   6   2   1 274   0   0   9]\n",
      " [  1   1   5   5   6   0   1 240   4   4]\n",
      " [  9   4  29  30  62   2  21  66  70  23]\n",
      " [ 14   5  32  45  22   3  69  46   3  61]]\n",
      "Accuracy AdaBoost : 0.44878 \n",
      "\n"
     ]
    },
    {
     "data": {
      "text/plain": [
       "['ada.joblib']"
      ]
     },
     "execution_count": 19,
     "metadata": {},
     "output_type": "execute_result"
    }
   ],
   "source": [
    "ada = AdaBoostClassifier(n_estimators=1000)\n",
    "model_assess(ada, \"AdaBoost\")\n",
    "\n",
    "dump(ada, 'ada.joblib')"
   ]
  },
  {
   "cell_type": "code",
   "execution_count": 4,
   "metadata": {},
   "outputs": [],
   "source": [
    "def get_features(y, sr):\n",
    "    chroma_stft = librosa.feature.chroma_stft(y=y, sr=sr)\n",
    "    rmse = librosa.feature.rms(y=y)\n",
    "    spec_cent = librosa.feature.spectral_centroid(y=y, sr=sr)\n",
    "    spec_bw = librosa.feature.spectral_bandwidth(y=y, sr=sr)\n",
    "    rolloff = librosa.feature.spectral_rolloff(y=y, sr=sr)\n",
    "    zcr = librosa.feature.zero_crossing_rate(y)\n",
    "    harmony, perceptr = librosa.effects.hpss(y)\n",
    "    tempo = librosa.beat.tempo(y=y, sr=sr)\n",
    "    mfcc1 = librosa.feature.mfcc(y=y, sr=sr, n_mfcc=1)\n",
    "    mfcc2 = librosa.feature.mfcc(y=y, sr=sr, n_mfcc=2)\n",
    "    mfcc3 = librosa.feature.mfcc(y=y, sr=sr, n_mfcc=3)\n",
    "    mfcc4 = librosa.feature.mfcc(y=y, sr=sr, n_mfcc=4)\n",
    "    mfcc5 = librosa.feature.mfcc(y=y, sr=sr, n_mfcc=5)\n",
    "    mfcc6 = librosa.feature.mfcc(y=y, sr=sr, n_mfcc=6)\n",
    "    mfcc7 = librosa.feature.mfcc(y=y, sr=sr, n_mfcc=7)\n",
    "    mfcc8 = librosa.feature.mfcc(y=y, sr=sr, n_mfcc=8)\n",
    "    mfcc9 = librosa.feature.mfcc(y=y, sr=sr, n_mfcc=9)\n",
    "    mfcc10 = librosa.feature.mfcc(y=y, sr=sr, n_mfcc=10)\n",
    "    mfcc11 = librosa.feature.mfcc(y=y, sr=sr, n_mfcc=11)\n",
    "    mfcc12 = librosa.feature.mfcc(y=y, sr=sr, n_mfcc=12)\n",
    "    mfcc13 = librosa.feature.mfcc(y=y, sr=sr, n_mfcc=13)\n",
    "    mfcc14 = librosa.feature.mfcc(y=y, sr=sr, n_mfcc=14)\n",
    "    mfcc15 = librosa.feature.mfcc(y=y, sr=sr, n_mfcc=15)\n",
    "    mfcc16 = librosa.feature.mfcc(y=y, sr=sr, n_mfcc=16)\n",
    "    mfcc17 = librosa.feature.mfcc(y=y, sr=sr, n_mfcc=17)\n",
    "    mfcc18 = librosa.feature.mfcc(y=y, sr=sr, n_mfcc=18)\n",
    "    mfcc19 = librosa.feature.mfcc(y=y, sr=sr, n_mfcc=19)\n",
    "    mfcc20 = librosa.feature.mfcc(y=y, sr=sr, n_mfcc=20)\n",
    "\n",
    "\n",
    "    return [np.mean(chroma_stft), np.var(chroma_stft), np.mean(rmse), np.var(rmse), np.mean(spec_cent), np.var(spec_cent), np.mean(spec_bw), np.var(spec_bw), np.mean(rolloff), np.var(rolloff), np.mean(zcr), np.var(zcr), np.mean(harmony), np.var(harmony), np.mean(perceptr), np.var(perceptr), tempo[0],\n",
    "     np.mean(mfcc1), np.var(mfcc1),\n",
    "        np.mean(mfcc2), np.var(mfcc2),\n",
    "        np.mean(mfcc3), np.var(mfcc3),\n",
    "        np.mean(mfcc4), np.var(mfcc4),\n",
    "        np.mean(mfcc5), np.var(mfcc5),\n",
    "        np.mean(mfcc6), np.var(mfcc6),\n",
    "        np.mean(mfcc7), np.var(mfcc7),\n",
    "        np.mean(mfcc8), np.var(mfcc8),\n",
    "        np.mean(mfcc9), np.var(mfcc9),\n",
    "        np.mean(mfcc10), np.var(mfcc10),\n",
    "        np.mean(mfcc11), np.var(mfcc11),\n",
    "        np.mean(mfcc12), np.var(mfcc12),\n",
    "        np.mean(mfcc13), np.var(mfcc13),\n",
    "        np.mean(mfcc14), np.var(mfcc14),\n",
    "        np.mean(mfcc15), np.var(mfcc15),\n",
    "        np.mean(mfcc16), np.var(mfcc16),\n",
    "        np.mean(mfcc17), np.var(mfcc17),\n",
    "        np.mean(mfcc18), np.var(mfcc18),\n",
    "        np.mean(mfcc19), np.var(mfcc19),\n",
    "        np.mean(mfcc20), np.var(mfcc20)]"
   ]
  },
  {
   "cell_type": "code",
   "execution_count": 5,
   "metadata": {},
   "outputs": [
    {
     "ename": "ValueError",
     "evalue": "Expected 2D array, got 1D array instead:\narray=[ 3.50128502e-01  8.87716636e-02  1.30184323e-01  2.82838009e-03\n  1.78412264e+03  1.29745485e+05  2.00241241e+03  8.58344104e+04\n  3.80572303e+03  9.01252917e+05  8.30448207e-02  7.66945655e-04\n -4.90663006e-05  8.17246269e-03 -1.06184834e-05  5.70443785e-03\n  1.23046875e+02 -1.13598824e+02  2.56936938e+03  3.98592186e+00\n  1.52587793e+04 -3.73013449e+00  1.03701230e+04  7.79337788e+00\n  8.21372656e+03  4.96225214e+00  6.63664111e+03  7.23886633e+00\n  5.57131104e+03  4.24763584e+00  4.83875195e+03  5.63415670e+00\n  4.25599023e+03  3.64432740e+00  3.82391309e+03  4.37698936e+00\n  3.45268774e+03  3.22216654e+00  3.15775830e+03  3.68716002e+00\n  2.90126343e+03  3.12122917e+00  2.68510327e+03  3.30861807e+00\n  2.49666064e+03  2.74385810e+00  2.33800073e+03  2.61934876e+00\n  2.19538501e+03  2.36598372e+00  2.06942114e+03  2.21183300e+00\n  1.95716833e+03  1.97422719e+00  1.85807300e+03  1.93663919e+00\n  1.76754333e+03].\nReshape your data either using array.reshape(-1, 1) if your data has a single feature or array.reshape(1, -1) if it contains a single sample.",
     "output_type": "error",
     "traceback": [
      "\u001b[0;31m---------------------------------------------------------------------------\u001b[0m",
      "\u001b[0;31mValueError\u001b[0m                                Traceback (most recent call last)",
      "Cell \u001b[0;32mIn [5], line 9\u001b[0m\n\u001b[1;32m      5\u001b[0m f \u001b[39m=\u001b[39m get_features(y, sr)\n\u001b[1;32m      7\u001b[0m test \u001b[39m=\u001b[39m [\u001b[39m0.35008811950683594\u001b[39m, \u001b[39m0.08875656872987747\u001b[39m , \u001b[39m0.1302279233932495\u001b[39m   , \u001b[39m0.0028266964945942163\u001b[39m , \u001b[39m1784.165849538755\u001b[39m     , \u001b[39m129774.06452515082\u001b[39m   , \u001b[39m2002.4490601176963\u001b[39m     , \u001b[39m85882.76131549841\u001b[39m     , \u001b[39m3805.8396058403423\u001b[39m, \u001b[39m901505.4255328419\u001b[39m , \u001b[39m0.08304482066898686\u001b[39m    , \u001b[39m0.0007669456545940504\u001b[39m , \u001b[39m-\u001b[39m\u001b[39m4.5297241740627214e-05\u001b[39m, \u001b[39m0.00817228201776743\u001b[39m   , \u001b[39m7.783231922076084e-06\u001b[39m  , \u001b[39m0.00569818215444684\u001b[39m   , \u001b[39m123.046875\u001b[39m        , \u001b[39m-\u001b[39m\u001b[39m113.57064819335938\u001b[39m, \u001b[39m2564.20751953125\u001b[39m  , \u001b[39m121.57179260253906\u001b[39m, \u001b[39m295.913818359375\u001b[39m  , \u001b[39m-\u001b[39m\u001b[39m19.168142318725586\u001b[39m , \u001b[39m235.57443237304688\u001b[39m, \u001b[39m42.36642074584961\u001b[39m   , \u001b[39m151.10687255859375\u001b[39m, \u001b[39m-\u001b[39m\u001b[39m6.364664077758789\u001b[39m   , \u001b[39m167.93479919433594\u001b[39m, \u001b[39m18.623498916625977\u001b[39m  , \u001b[39m89.18083953857422\u001b[39m , \u001b[39m-\u001b[39m\u001b[39m13.704891204833984\u001b[39m  , \u001b[39m67.66049194335938\u001b[39m , \u001b[39m15.34315013885498\u001b[39m    , \u001b[39m68.93257904052734\u001b[39m , \u001b[39m-\u001b[39m\u001b[39m12.274109840393066\u001b[39m  , \u001b[39m82.2042007446289\u001b[39m  , \u001b[39m10.976572036743164\u001b[39m   , \u001b[39m63.38631057739258\u001b[39m , \u001b[39m-\u001b[39m\u001b[39m8.326573371887207\u001b[39m    , \u001b[39m61.773094177246094\u001b[39m, \u001b[39m8.803791999816895\u001b[39m    , \u001b[39m51.24412536621094\u001b[39m , \u001b[39m-\u001b[39m\u001b[39m3.672300100326538\u001b[39m   , \u001b[39m41.21741485595703\u001b[39m , \u001b[39m5.747994899749756\u001b[39m    , \u001b[39m40.55447769165039\u001b[39m , \u001b[39m-\u001b[39m\u001b[39m5.162881851196289\u001b[39m   , \u001b[39m49.775421142578125\u001b[39m, \u001b[39m0.752740204334259\u001b[39m    , \u001b[39m52.4209098815918\u001b[39m  , \u001b[39m-\u001b[39m\u001b[39m1.6902146339416504\u001b[39m  , \u001b[39m36.524070739746094\u001b[39m, \u001b[39m-\u001b[39m\u001b[39m0.4089791774749756\u001b[39m  , \u001b[39m41.597103118896484\u001b[39m, \u001b[39m-\u001b[39m\u001b[39m2.3035225868225098\u001b[39m  , \u001b[39m55.062923431396484\u001b[39m, \u001b[39m1.2212907075881958\u001b[39m   , \u001b[39m46.93603515625\u001b[39m]\n\u001b[0;32m----> 9\u001b[0m similarity \u001b[39m=\u001b[39m cosine_similarity(f, test)\n",
      "File \u001b[0;32m/opt/homebrew/lib/python3.10/site-packages/sklearn/metrics/pairwise.py:1377\u001b[0m, in \u001b[0;36mcosine_similarity\u001b[0;34m(X, Y, dense_output)\u001b[0m\n\u001b[1;32m   1342\u001b[0m \u001b[39m\"\"\"Compute cosine similarity between samples in X and Y.\u001b[39;00m\n\u001b[1;32m   1343\u001b[0m \n\u001b[1;32m   1344\u001b[0m \u001b[39mCosine similarity, or the cosine kernel, computes similarity as the\u001b[39;00m\n\u001b[0;32m   (...)\u001b[0m\n\u001b[1;32m   1373\u001b[0m \u001b[39m    Returns the cosine similarity between samples in X and Y.\u001b[39;00m\n\u001b[1;32m   1374\u001b[0m \u001b[39m\"\"\"\u001b[39;00m\n\u001b[1;32m   1375\u001b[0m \u001b[39m# to avoid recursive import\u001b[39;00m\n\u001b[0;32m-> 1377\u001b[0m X, Y \u001b[39m=\u001b[39m check_pairwise_arrays(X, Y)\n\u001b[1;32m   1379\u001b[0m X_normalized \u001b[39m=\u001b[39m normalize(X, copy\u001b[39m=\u001b[39m\u001b[39mTrue\u001b[39;00m)\n\u001b[1;32m   1380\u001b[0m \u001b[39mif\u001b[39;00m X \u001b[39mis\u001b[39;00m Y:\n",
      "File \u001b[0;32m/opt/homebrew/lib/python3.10/site-packages/sklearn/metrics/pairwise.py:155\u001b[0m, in \u001b[0;36mcheck_pairwise_arrays\u001b[0;34m(X, Y, precomputed, dtype, accept_sparse, force_all_finite, copy)\u001b[0m\n\u001b[1;32m    146\u001b[0m     X \u001b[39m=\u001b[39m Y \u001b[39m=\u001b[39m check_array(\n\u001b[1;32m    147\u001b[0m         X,\n\u001b[1;32m    148\u001b[0m         accept_sparse\u001b[39m=\u001b[39maccept_sparse,\n\u001b[0;32m   (...)\u001b[0m\n\u001b[1;32m    152\u001b[0m         estimator\u001b[39m=\u001b[39mestimator,\n\u001b[1;32m    153\u001b[0m     )\n\u001b[1;32m    154\u001b[0m \u001b[39melse\u001b[39;00m:\n\u001b[0;32m--> 155\u001b[0m     X \u001b[39m=\u001b[39m check_array(\n\u001b[1;32m    156\u001b[0m         X,\n\u001b[1;32m    157\u001b[0m         accept_sparse\u001b[39m=\u001b[39;49maccept_sparse,\n\u001b[1;32m    158\u001b[0m         dtype\u001b[39m=\u001b[39;49mdtype,\n\u001b[1;32m    159\u001b[0m         copy\u001b[39m=\u001b[39;49mcopy,\n\u001b[1;32m    160\u001b[0m         force_all_finite\u001b[39m=\u001b[39;49mforce_all_finite,\n\u001b[1;32m    161\u001b[0m         estimator\u001b[39m=\u001b[39;49mestimator,\n\u001b[1;32m    162\u001b[0m     )\n\u001b[1;32m    163\u001b[0m     Y \u001b[39m=\u001b[39m check_array(\n\u001b[1;32m    164\u001b[0m         Y,\n\u001b[1;32m    165\u001b[0m         accept_sparse\u001b[39m=\u001b[39maccept_sparse,\n\u001b[0;32m   (...)\u001b[0m\n\u001b[1;32m    169\u001b[0m         estimator\u001b[39m=\u001b[39mestimator,\n\u001b[1;32m    170\u001b[0m     )\n\u001b[1;32m    172\u001b[0m \u001b[39mif\u001b[39;00m precomputed:\n",
      "File \u001b[0;32m/opt/homebrew/lib/python3.10/site-packages/sklearn/utils/validation.py:879\u001b[0m, in \u001b[0;36mcheck_array\u001b[0;34m(array, accept_sparse, accept_large_sparse, dtype, order, copy, force_all_finite, ensure_2d, allow_nd, ensure_min_samples, ensure_min_features, estimator, input_name)\u001b[0m\n\u001b[1;32m    877\u001b[0m     \u001b[39m# If input is 1D raise error\u001b[39;00m\n\u001b[1;32m    878\u001b[0m     \u001b[39mif\u001b[39;00m array\u001b[39m.\u001b[39mndim \u001b[39m==\u001b[39m \u001b[39m1\u001b[39m:\n\u001b[0;32m--> 879\u001b[0m         \u001b[39mraise\u001b[39;00m \u001b[39mValueError\u001b[39;00m(\n\u001b[1;32m    880\u001b[0m             \u001b[39m\"\u001b[39m\u001b[39mExpected 2D array, got 1D array instead:\u001b[39m\u001b[39m\\n\u001b[39;00m\u001b[39marray=\u001b[39m\u001b[39m{}\u001b[39;00m\u001b[39m.\u001b[39m\u001b[39m\\n\u001b[39;00m\u001b[39m\"\u001b[39m\n\u001b[1;32m    881\u001b[0m             \u001b[39m\"\u001b[39m\u001b[39mReshape your data either using array.reshape(-1, 1) if \u001b[39m\u001b[39m\"\u001b[39m\n\u001b[1;32m    882\u001b[0m             \u001b[39m\"\u001b[39m\u001b[39myour data has a single feature or array.reshape(1, -1) \u001b[39m\u001b[39m\"\u001b[39m\n\u001b[1;32m    883\u001b[0m             \u001b[39m\"\u001b[39m\u001b[39mif it contains a single sample.\u001b[39m\u001b[39m\"\u001b[39m\u001b[39m.\u001b[39mformat(array)\n\u001b[1;32m    884\u001b[0m         )\n\u001b[1;32m    886\u001b[0m \u001b[39mif\u001b[39;00m dtype_numeric \u001b[39mand\u001b[39;00m array\u001b[39m.\u001b[39mdtype\u001b[39m.\u001b[39mkind \u001b[39min\u001b[39;00m \u001b[39m\"\u001b[39m\u001b[39mUSV\u001b[39m\u001b[39m\"\u001b[39m:\n\u001b[1;32m    887\u001b[0m     \u001b[39mraise\u001b[39;00m \u001b[39mValueError\u001b[39;00m(\n\u001b[1;32m    888\u001b[0m         \u001b[39m\"\u001b[39m\u001b[39mdtype=\u001b[39m\u001b[39m'\u001b[39m\u001b[39mnumeric\u001b[39m\u001b[39m'\u001b[39m\u001b[39m is not compatible with arrays of bytes/strings.\u001b[39m\u001b[39m\"\u001b[39m\n\u001b[1;32m    889\u001b[0m         \u001b[39m\"\u001b[39m\u001b[39mConvert your data to numeric values explicitly instead.\u001b[39m\u001b[39m\"\u001b[39m\n\u001b[1;32m    890\u001b[0m     )\n",
      "\u001b[0;31mValueError\u001b[0m: Expected 2D array, got 1D array instead:\narray=[ 3.50128502e-01  8.87716636e-02  1.30184323e-01  2.82838009e-03\n  1.78412264e+03  1.29745485e+05  2.00241241e+03  8.58344104e+04\n  3.80572303e+03  9.01252917e+05  8.30448207e-02  7.66945655e-04\n -4.90663006e-05  8.17246269e-03 -1.06184834e-05  5.70443785e-03\n  1.23046875e+02 -1.13598824e+02  2.56936938e+03  3.98592186e+00\n  1.52587793e+04 -3.73013449e+00  1.03701230e+04  7.79337788e+00\n  8.21372656e+03  4.96225214e+00  6.63664111e+03  7.23886633e+00\n  5.57131104e+03  4.24763584e+00  4.83875195e+03  5.63415670e+00\n  4.25599023e+03  3.64432740e+00  3.82391309e+03  4.37698936e+00\n  3.45268774e+03  3.22216654e+00  3.15775830e+03  3.68716002e+00\n  2.90126343e+03  3.12122917e+00  2.68510327e+03  3.30861807e+00\n  2.49666064e+03  2.74385810e+00  2.33800073e+03  2.61934876e+00\n  2.19538501e+03  2.36598372e+00  2.06942114e+03  2.21183300e+00\n  1.95716833e+03  1.97422719e+00  1.85807300e+03  1.93663919e+00\n  1.76754333e+03].\nReshape your data either using array.reshape(-1, 1) if your data has a single feature or array.reshape(1, -1) if it contains a single sample."
     ]
    }
   ],
   "source": [
    "y, sr = librosa.load(f'{dir_}/genres_original/blues/blues.00000.wav')\n",
    "y, _ = librosa.effects.trim(y)\n",
    "\n",
    "\n",
    "f = get_features(y, sr)\n",
    "\n",
    "test = [0.35008811950683594, 0.08875656872987747 , 0.1302279233932495   , 0.0028266964945942163 , 1784.165849538755     , 129774.06452515082   , 2002.4490601176963     , 85882.76131549841     , 3805.8396058403423, 901505.4255328419 , 0.08304482066898686    , 0.0007669456545940504 , -4.5297241740627214e-05, 0.00817228201776743   , 7.783231922076084e-06  , 0.00569818215444684   , 123.046875        , -113.57064819335938, 2564.20751953125  , 121.57179260253906, 295.913818359375  , -19.168142318725586 , 235.57443237304688, 42.36642074584961   , 151.10687255859375, -6.364664077758789   , 167.93479919433594, 18.623498916625977  , 89.18083953857422 , -13.704891204833984  , 67.66049194335938 , 15.34315013885498    , 68.93257904052734 , -12.274109840393066  , 82.2042007446289  , 10.976572036743164   , 63.38631057739258 , -8.326573371887207    , 61.773094177246094, 8.803791999816895    , 51.24412536621094 , -3.672300100326538   , 41.21741485595703 , 5.747994899749756    , 40.55447769165039 , -5.162881851196289   , 49.775421142578125, 0.752740204334259    , 52.4209098815918  , -1.6902146339416504  , 36.524070739746094, -0.4089791774749756  , 41.597103118896484, -2.3035225868225098  , 55.062923431396484, 1.2212907075881958   , 46.93603515625]\n",
    "\n",
    "\n",
    "\n",
    "\n",
    "\n"
   ]
  }
 ],
 "metadata": {
  "kernelspec": {
   "display_name": "Python 3.10.8 64-bit",
   "language": "python",
   "name": "python3"
  },
  "language_info": {
   "codemirror_mode": {
    "name": "ipython",
    "version": 3
   },
   "file_extension": ".py",
   "mimetype": "text/x-python",
   "name": "python",
   "nbconvert_exporter": "python",
   "pygments_lexer": "ipython3",
   "version": "3.10.8"
  },
  "orig_nbformat": 4,
  "vscode": {
   "interpreter": {
    "hash": "b0fa6594d8f4cbf19f97940f81e996739fb7646882a419484c72d19e05852a7e"
   }
  }
 },
 "nbformat": 4,
 "nbformat_minor": 2
}
