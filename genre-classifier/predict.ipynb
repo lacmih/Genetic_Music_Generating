{
 "cells": [
  {
   "cell_type": "code",
   "execution_count": 1,
   "metadata": {},
   "outputs": [],
   "source": [
    "import pandas as pd\n",
    "import numpy as np\n",
    "\n",
    "import seaborn as sns\n",
    "import matplotlib.pyplot as plt\n",
    "%matplotlib inline\n",
    "\n",
    "import sklearn\n",
    "from sklearn.naive_bayes import GaussianNB\n",
    "from sklearn.linear_model import SGDClassifier, LogisticRegression\n",
    "from sklearn.neighbors import KNeighborsClassifier\n",
    "from sklearn.tree import DecisionTreeClassifier\n",
    "from sklearn.ensemble import RandomForestClassifier, AdaBoostClassifier\n",
    "from sklearn.svm import SVC\n",
    "from sklearn.neural_network import MLPClassifier\n",
    "from xgboost import XGBClassifier, XGBRFClassifier\n",
    "from xgboost import plot_tree, plot_importance\n",
    "from sklearn.metrics import confusion_matrix, accuracy_score, roc_auc_score, roc_curve\n",
    "from sklearn.decomposition import PCA\n",
    "from sklearn import preprocessing\n",
    "from sklearn.model_selection import train_test_split\n",
    "from sklearn.feature_selection import RFE\n",
    "from sklearn.metrics.pairwise import cosine_similarity\n",
    "\n",
    "import keras\n",
    "from tensorflow import keras\n",
    "from keras import Sequential\n",
    "from keras import layers\n",
    "import tensorflow as tf\n",
    "import tensorflow_addons as tfa\n",
    "from tensorflow.keras.preprocessing import image_dataset_from_directory\n",
    "from keras.utils.vis_utils import plot_model\n",
    "from tensorflow.keras import Sequential, Input\n",
    "#from keras.utils import to_categorical\n",
    "from tensorflow.keras.utils import to_categorical\n",
    "from tensorflow.keras.layers import Dense, Dropout,SeparableConv2D, Activation, BatchNormalization, Flatten, GlobalAveragePooling2D, Conv2D, MaxPooling2D\n",
    "from tensorflow.keras.layers import Conv2D, Flatten\n",
    "from tensorflow.keras.callbacks import ReduceLROnPlateau,EarlyStopping, ModelCheckpoint\n",
    "from tensorflow.keras.applications.inception_v3 import InceptionV3\n",
    "from tensorflow.keras.preprocessing.image import ImageDataGenerator as IDG\n",
    "\n",
    "import librosa\n",
    "import librosa.display\n",
    "import IPython.display as ipd\n",
    "\n",
    "import eli5\n",
    "from eli5.sklearn import PermutationImportance\n",
    "from joblib import dump, load\n",
    "\n",
    "import os\n",
    "import warnings\n",
    "warnings.filterwarnings('ignore')"
   ]
  },
  {
   "cell_type": "code",
   "execution_count": 155,
   "metadata": {},
   "outputs": [],
   "source": [
    "def get_features(y, sr):\n",
    "    \n",
    "    chroma_stft = librosa.feature.chroma_stft(y=y, sr=sr)\n",
    "    rmse = librosa.feature.rms(y=y)\n",
    "    spec_cent = librosa.feature.spectral_centroid(y=y, sr=sr)\n",
    "    spec_bw = librosa.feature.spectral_bandwidth(y=y, sr=sr)\n",
    "    rolloff = librosa.feature.spectral_rolloff(y=y, sr=sr)\n",
    "    zcr = librosa.feature.zero_crossing_rate(y)\n",
    "    harmony, perceptr = librosa.effects.hpss(y) \n",
    "    tempo = librosa.beat.tempo(y=y, sr=sr)\n",
    "    \n",
    "    mfccs = librosa.feature.mfcc(y=y, sr=sr)\n",
    "    mfccs_means = np.mean(mfccs.T, axis=0),\n",
    "    mfccs_var = np.var(mfccs.T, axis=0)\n",
    "   \n",
    "    res = [np.mean(chroma_stft), np.var(chroma_stft), np.mean(rmse), np.var(rmse), np.mean(spec_cent), np.var(spec_cent), np.mean(spec_bw), np.var(spec_bw), np.mean(rolloff), np.var(rolloff), np.mean(zcr), np.var(zcr), np.mean(harmony), np.var(harmony), np.mean(perceptr), np.var(perceptr), tempo[0]]\n",
    "    \n",
    "    for i in range(0, 20):\n",
    "        res.append(mfccs_means[0][i])\n",
    "        res.append(mfccs_var[i])\n",
    "    \n",
    "    return res"
   ]
  },
  {
   "cell_type": "code",
   "execution_count": 154,
   "metadata": {},
   "outputs": [],
   "source": [
    "def predict(f, model):\n",
    "    y, s = librosa.load(f)\n",
    "    y, _ = librosa.effects.trim(y)\n",
    "    f = get_features(y, s)\n",
    "\n",
    "    f = np.array(f)\n",
    "    f = f.reshape(1, -1)\n",
    "\n",
    "    probs =  model.predict_proba(np.array(f))\n",
    "    classes = model.classes_\n",
    "\n",
    "    print(classes)\n",
    "    print(probs[0])\n",
    "    print(classes[np.argmax(probs[0])])\n",
    "    print(np.max(probs[0]))\n",
    "\n",
    "    return classes[np.argmax(probs[0])], np.max(probs[0])"
   ]
  },
  {
   "cell_type": "code",
   "execution_count": 160,
   "metadata": {},
   "outputs": [
    {
     "name": "stdout",
     "output_type": "stream",
     "text": [
      "[0 1 2 3 4 5 6 7 8 9]\n",
      "[9.0405725e-02 1.0944908e-01 2.2606042e-04 2.5589743e-01 2.7365121e-01\n",
      " 3.0226151e-03 1.4541785e-01 6.6801449e-03 2.6545586e-02 8.8704281e-02]\n",
      "4\n",
      "0.2736512\n"
     ]
    }
   ],
   "source": [
    "labels = ['blues', 'classical', 'country', 'disco', 'hiphop', 'jazz', 'metal', 'pop', 'reggae', 'rock']\n",
    "\n",
    "model = load('./xgb.joblib')\n",
    "\n",
    "label, proc = predict('./data/genres_original/classical/classical.00007.wav', model)\n",
    "\n",
    "\n",
    "\n"
   ]
  },
  {
   "cell_type": "code",
   "execution_count": null,
   "metadata": {},
   "outputs": [],
   "source": [
    "filename = './data/genres_original/rock/rock.0000{number}.wav'.format(number=\"00000\")\n",
    "\n",
    "labels = ['blues', 'classical', 'country', 'disco', 'hiphop', 'jazz', 'metal', 'pop', 'reggae', 'rock']\n",
    "\n",
    "model = load('./rforest.joblib')\n",
    "\n",
    "\n",
    "for label in labels:\n",
    "    for i in range(10):\n",
    "        filename = './data/genres_original/{genre}/{genre}.0000{number}.wav'.format(genre=label, number=i)\n",
    "        pred, prob = predict(filename, model)\n",
    "        if pred != label:\n",
    "            print('predicted: {pred} with probability: {prob} for {filename}'.format(pred=pred, prob=prob, filename=filename))\n",
    "\n"
   ]
  },
  {
   "cell_type": "code",
   "execution_count": 214,
   "metadata": {},
   "outputs": [
    {
     "name": "stdout",
     "output_type": "stream",
     "text": [
      "-1.0618483e-05\n",
      "0.005704438\n"
     ]
    }
   ],
   "source": [
    "y, s = librosa.load(f'./data/genres_original/blues/blues.00000.wav')\n",
    "y, _ = librosa.effects.trim(y)\n",
    "\n",
    "\n",
    "_, data_p = librosa.effects.hpss(y)\n",
    "\n",
    "\n",
    "print(np.mean(data_p))\n",
    "print(np.var(data_p))\n",
    "\n",
    "\n",
    "\n",
    "\n"
   ]
  }
 ],
 "metadata": {
  "kernelspec": {
   "display_name": "Python 3",
   "language": "python",
   "name": "python3"
  },
  "language_info": {
   "codemirror_mode": {
    "name": "ipython",
    "version": 3
   },
   "file_extension": ".py",
   "mimetype": "text/x-python",
   "name": "python",
   "nbconvert_exporter": "python",
   "pygments_lexer": "ipython3",
   "version": "3.10.8"
  },
  "orig_nbformat": 4,
  "vscode": {
   "interpreter": {
    "hash": "b0fa6594d8f4cbf19f97940f81e996739fb7646882a419484c72d19e05852a7e"
   }
  }
 },
 "nbformat": 4,
 "nbformat_minor": 2
}
